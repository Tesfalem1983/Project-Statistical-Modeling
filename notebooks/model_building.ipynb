{
 "cells": [
  {
   "cell_type": "markdown",
   "metadata": {},
   "source": [
    "Build a regression model."
   ]
  },
  {
   "cell_type": "code",
   "execution_count": 18,
   "metadata": {},
   "outputs": [
    {
     "name": "stdout",
     "output_type": "stream",
     "text": [
      "                                 OLS Regression Results                                \n",
      "=======================================================================================\n",
      "Dep. Variable:        Number_of_Bikes   R-squared (uncentered):                   0.623\n",
      "Model:                            OLS   Adj. R-squared (uncentered):              0.620\n",
      "Method:                 Least Squares   F-statistic:                              178.6\n",
      "Date:                Tue, 04 Jul 2023   Prob (F-statistic):                    1.25e-24\n",
      "Time:                        12:46:57   Log-Likelihood:                         -312.80\n",
      "No. Observations:                 109   AIC:                                      627.6\n",
      "Df Residuals:                     108   BIC:                                      630.3\n",
      "Df Model:                           1                                                  \n",
      "Covariance Type:            nonrobust                                                  \n",
      "==============================================================================\n",
      "                 coef    std err          t      P>|t|      [0.025      0.975]\n",
      "------------------------------------------------------------------------------\n",
      "Distance       0.0084      0.001     13.365      0.000       0.007       0.010\n",
      "==============================================================================\n",
      "Omnibus:                       13.842   Durbin-Watson:                   1.509\n",
      "Prob(Omnibus):                  0.001   Jarque-Bera (JB):               15.297\n",
      "Skew:                           0.785   Prob(JB):                     0.000477\n",
      "Kurtosis:                       3.952   Cond. No.                         1.00\n",
      "==============================================================================\n",
      "\n",
      "Notes:\n",
      "[1] R² is computed without centering (uncentered) since the model does not contain a constant.\n",
      "[2] Standard Errors assume that the covariance matrix of the errors is correctly specified.\n"
     ]
    }
   ],
   "source": [
    "import pandas as pd\n",
    "import statsmodels.api as sm\n",
    "\n",
    "%store -r combined_df\n",
    "#\n",
    "partial_df =combined_df.dropna(subset=['Number_of_Bikes', 'Distance'])\n",
    "#The plan is to create a simple linear regression with distance as independent and Number of free bikes as dependent\n",
    "X = partial_df[['Distance']]\n",
    "y = partial_df['Number_of_Bikes']\n",
    "\n",
    "#Adding a constant\n",
    "#X = sm.add_constant(X)\n",
    "\n",
    "# Creating and fitting a linear regression model\n",
    "regression_model = sm.OLS(y, X)\n",
    "regression_results = regression_model.fit()\n",
    "\n",
    "# Print model summary\n",
    "print(regression_results.summary())\n",
    "\n"
   ]
  },
  {
   "cell_type": "markdown",
   "metadata": {},
   "source": [
    "Provide model output and an interpretation of the results. "
   ]
  },
  {
   "cell_type": "markdown",
   "metadata": {},
   "source": [
    "The R-squared value of 0.623 means that approximately 62.3% of the variance in the Number_of_Bikes can be explained by the independent variable Distance. This suggests that there is a significant relationship between the distance of Point of Interest from the bike stations and the number of free bikes available.The closer the Point of Interest is to the bike stations, the higher the likelihood of having more free bikes. It implies that proximity to restaurants, bars, and groceries plays a role in determining the availability of bikes at the stations."
   ]
  },
  {
   "cell_type": "markdown",
   "metadata": {},
   "source": [
    "# Stretch"
   ]
  },
  {
   "cell_type": "markdown",
   "metadata": {},
   "source": [
    "How can you turn the regression model into a classification model?"
   ]
  },
  {
   "cell_type": "code",
   "execution_count": null,
   "metadata": {},
   "outputs": [],
   "source": []
  }
 ],
 "metadata": {
  "kernelspec": {
   "display_name": "Python 3 (ipykernel)",
   "language": "python",
   "name": "python3"
  },
  "language_info": {
   "codemirror_mode": {
    "name": "ipython",
    "version": 3
   },
   "file_extension": ".py",
   "mimetype": "text/x-python",
   "name": "python",
   "nbconvert_exporter": "python",
   "pygments_lexer": "ipython3",
   "version": "3.10.9"
  }
 },
 "nbformat": 4,
 "nbformat_minor": 4
}
