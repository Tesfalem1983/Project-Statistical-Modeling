{
 "cells": [
  {
   "cell_type": "markdown",
   "metadata": {},
   "source": [
    "# CityBikes"
   ]
  },
  {
   "cell_type": "markdown",
   "metadata": {},
   "source": [
    "Send a request to CityBikes for the city of your choice. "
   ]
  },
  {
   "cell_type": "markdown",
   "metadata": {},
   "source": [
    "#Make an API request & Explore the data Structure:"
   ]
  },
  {
   "cell_type": "code",
   "execution_count": 2,
   "metadata": {},
   "outputs": [],
   "source": [
    "import pandas as pd\n",
    "import requests\n",
    "import os\n",
    "import json\n",
    "\n",
    "#Choosen City Name : Hamilton\n",
    "request_url = 'http://api.citybik.es/v2/networks/sobi-hamilton'       \n",
    "response = requests.get(request_url,headers = {'network': 'location/JSON'})\n",
    "\n",
    "result = response.json()\n",
    "#result\n",
    "\n"
   ]
  },
  {
   "cell_type": "markdown",
   "metadata": {},
   "source": [
    "##Access the nested(stations) information and retrieve data"
   ]
  },
  {
   "cell_type": "code",
   "execution_count": 4,
   "metadata": {},
   "outputs": [],
   "source": [
    "Bike_Stations = result['network']['stations']\n",
    "Station_names = []\n",
    "lat = []\n",
    "lon = []\n",
    "num_bikes = []\n",
    "\n",
    "for station in Bike_Stations:\n",
    "    Station_names.append(station[\"name\"])\n",
    "    lat.append(station[\"latitude\"])\n",
    "    lon.append(station[\"longitude\"])\n",
    "    num_bikes.append(station[\"free_bikes\"])\n",
    "    "
   ]
  },
  {
   "cell_type": "markdown",
   "metadata": {},
   "source": [
    "#Parse the retrieved data in to Panda DataFrame:"
   ]
  },
  {
   "cell_type": "code",
   "execution_count": 5,
   "metadata": {},
   "outputs": [
    {
     "name": "stdout",
     "output_type": "stream",
     "text": [
      "                       Station Name   Latitude  Longitude  Number_of_Bikes\n",
      "0                      Hess at king  43.259126 -79.877212               12\n",
      "1                     Bayfront Park  43.269288 -79.871327                2\n",
      "2                   Bay at Strachan  43.267859 -79.867923                7\n",
      "3                   Bay at Mulberry  43.263198 -79.871803                3\n",
      "4                         City Hall  43.256132 -79.874499                8\n",
      "..                              ...        ...        ...              ...\n",
      "139  Westinghouse at Barton - ERI13  43.258319 -79.842406                4\n",
      "140              James at Colbourne  43.263777 -79.866042                2\n",
      "141                Main at Longwood  43.259604 -79.902103                4\n",
      "142                     Van Wagners  43.260008 -79.766388                6\n",
      "143           King William at James  43.257635 -79.868487                4\n",
      "\n",
      "[144 rows x 4 columns]\n"
     ]
    }
   ],
   "source": [
    "\n",
    "df_citybike = pd.DataFrame({\n",
    "    \"Station Name\": Station_names,\n",
    "    \"Latitude\": lat,\n",
    "    \"Longitude\": lon,\n",
    "    \"Number_of_Bikes\": num_bikes\n",
    "})\n",
    "\n",
    "print(df_citybike)\n",
    "\n",
    "#df_citybike.to_csv('C:/users/simon/Citybike.csv', index=False)"
   ]
  },
  {
   "cell_type": "markdown",
   "metadata": {},
   "source": []
  }
 ],
 "metadata": {
  "kernelspec": {
   "display_name": "Python 3 (ipykernel)",
   "language": "python",
   "name": "python3"
  },
  "language_info": {
   "codemirror_mode": {
    "name": "ipython",
    "version": 3
   },
   "file_extension": ".py",
   "mimetype": "text/x-python",
   "name": "python",
   "nbconvert_exporter": "python",
   "pygments_lexer": "ipython3",
   "version": "3.10.9"
  }
 },
 "nbformat": 4,
 "nbformat_minor": 4
}
